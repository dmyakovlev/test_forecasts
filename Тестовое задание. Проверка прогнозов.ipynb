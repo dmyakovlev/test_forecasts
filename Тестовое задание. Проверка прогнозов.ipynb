{
 "cells": [
  {
   "cell_type": "markdown",
   "id": "c7621bd1",
   "metadata": {},
   "source": [
    "1. Apache Spark\n",
    "\n",
    "Как я понимаю его после нескольких часов статей и видео:\n",
    "Ультимативный инструмент для инженера для работы с графовыми алгоритмами, машинным обучением, обработки и анализа данных.\n",
    "Это движок и набор библиотек, основное приемущество это структура набора данных, которая делится на части в нодах  кластеров, что значительно упрощает и ускоряет работу с данными, особенно с большими, тк при стандартном использовании языков программирования мы ограничены оперативной памятью компьютера.\n",
    "Поддерживает множество языков для работы.\n",
    "Разные источники описыват разные приемущества, кто-то полностью работает на спарк, кто-то рекомендует использовать его частично для различных операций. Но это предстоит проверить дальше лично."
   ]
  },
  {
   "cell_type": "code",
   "execution_count": 1,
   "id": "c3472b79",
   "metadata": {},
   "outputs": [],
   "source": [
    "import numpy as np\n",
    "import pandas as pd\n",
    "import pyarrow.parquet as pq\n",
    "import seaborn as sns\n",
    "import matplotlib.pyplot as plt\n",
    "sns.set(rc = {'figure.figsize' : (16,6)}, style=\"whitegrid\")"
   ]
  },
  {
   "cell_type": "code",
   "execution_count": 2,
   "id": "c9fef448",
   "metadata": {},
   "outputs": [],
   "source": [
    "table = pd.read_parquet('/Users/dmyakovlev/Desktop/fcst.parquet',)"
   ]
  },
  {
   "cell_type": "code",
   "execution_count": 3,
   "id": "7521ad0b",
   "metadata": {},
   "outputs": [
    {
     "data": {
      "text/html": [
       "<div>\n",
       "<style scoped>\n",
       "    .dataframe tbody tr th:only-of-type {\n",
       "        vertical-align: middle;\n",
       "    }\n",
       "\n",
       "    .dataframe tbody tr th {\n",
       "        vertical-align: top;\n",
       "    }\n",
       "\n",
       "    .dataframe thead th {\n",
       "        text-align: right;\n",
       "    }\n",
       "</style>\n",
       "<table border=\"1\" class=\"dataframe\">\n",
       "  <thead>\n",
       "    <tr style=\"text-align: right;\">\n",
       "      <th></th>\n",
       "      <th>id</th>\n",
       "      <th>time_period</th>\n",
       "      <th>sales</th>\n",
       "      <th>fcst1</th>\n",
       "      <th>fcst2</th>\n",
       "      <th>fcst3</th>\n",
       "      <th>fcst4</th>\n",
       "    </tr>\n",
       "  </thead>\n",
       "  <tbody>\n",
       "    <tr>\n",
       "      <th>0</th>\n",
       "      <td>0</td>\n",
       "      <td>1</td>\n",
       "      <td>743.0</td>\n",
       "      <td>5316.803341</td>\n",
       "      <td>5978.720782</td>\n",
       "      <td>4267.971145</td>\n",
       "      <td>4283.282927</td>\n",
       "    </tr>\n",
       "    <tr>\n",
       "      <th>1</th>\n",
       "      <td>1</td>\n",
       "      <td>1</td>\n",
       "      <td>2851.0</td>\n",
       "      <td>2984.880237</td>\n",
       "      <td>2591.821366</td>\n",
       "      <td>2650.744227</td>\n",
       "      <td>2505.751384</td>\n",
       "    </tr>\n",
       "    <tr>\n",
       "      <th>2</th>\n",
       "      <td>2</td>\n",
       "      <td>1</td>\n",
       "      <td>2183.0</td>\n",
       "      <td>2580.991286</td>\n",
       "      <td>3030.257809</td>\n",
       "      <td>2762.233600</td>\n",
       "      <td>2722.675689</td>\n",
       "    </tr>\n",
       "    <tr>\n",
       "      <th>3</th>\n",
       "      <td>3</td>\n",
       "      <td>1</td>\n",
       "      <td>1867.0</td>\n",
       "      <td>816.092797</td>\n",
       "      <td>159.134282</td>\n",
       "      <td>1162.324517</td>\n",
       "      <td>908.373377</td>\n",
       "    </tr>\n",
       "    <tr>\n",
       "      <th>4</th>\n",
       "      <td>4</td>\n",
       "      <td>1</td>\n",
       "      <td>3442.0</td>\n",
       "      <td>3898.294959</td>\n",
       "      <td>3280.919560</td>\n",
       "      <td>3636.127401</td>\n",
       "      <td>3752.789970</td>\n",
       "    </tr>\n",
       "  </tbody>\n",
       "</table>\n",
       "</div>"
      ],
      "text/plain": [
       "   id  time_period   sales        fcst1        fcst2        fcst3        fcst4\n",
       "0   0            1   743.0  5316.803341  5978.720782  4267.971145  4283.282927\n",
       "1   1            1  2851.0  2984.880237  2591.821366  2650.744227  2505.751384\n",
       "2   2            1  2183.0  2580.991286  3030.257809  2762.233600  2722.675689\n",
       "3   3            1  1867.0   816.092797   159.134282  1162.324517   908.373377\n",
       "4   4            1  3442.0  3898.294959  3280.919560  3636.127401  3752.789970"
      ]
     },
     "execution_count": 3,
     "metadata": {},
     "output_type": "execute_result"
    }
   ],
   "source": [
    "table.head()"
   ]
  },
  {
   "cell_type": "markdown",
   "id": "30d28e39",
   "metadata": {},
   "source": [
    "Изучим данные"
   ]
  },
  {
   "cell_type": "code",
   "execution_count": 4,
   "id": "baa32f9d",
   "metadata": {},
   "outputs": [
    {
     "data": {
      "text/plain": [
       "(930, 7)"
      ]
     },
     "execution_count": 4,
     "metadata": {},
     "output_type": "execute_result"
    }
   ],
   "source": [
    "table.shape"
   ]
  },
  {
   "cell_type": "code",
   "execution_count": 5,
   "id": "e9f930ad",
   "metadata": {},
   "outputs": [
    {
     "data": {
      "text/plain": [
       "id               int64\n",
       "time_period      int64\n",
       "sales          float64\n",
       "fcst1          float64\n",
       "fcst2          float64\n",
       "fcst3          float64\n",
       "fcst4          float64\n",
       "dtype: object"
      ]
     },
     "execution_count": 5,
     "metadata": {},
     "output_type": "execute_result"
    }
   ],
   "source": [
    "table.dtypes"
   ]
  },
  {
   "cell_type": "code",
   "execution_count": 6,
   "id": "bf8ec06a",
   "metadata": {},
   "outputs": [
    {
     "data": {
      "text/html": [
       "<div>\n",
       "<style scoped>\n",
       "    .dataframe tbody tr th:only-of-type {\n",
       "        vertical-align: middle;\n",
       "    }\n",
       "\n",
       "    .dataframe tbody tr th {\n",
       "        vertical-align: top;\n",
       "    }\n",
       "\n",
       "    .dataframe thead th {\n",
       "        text-align: right;\n",
       "    }\n",
       "</style>\n",
       "<table border=\"1\" class=\"dataframe\">\n",
       "  <thead>\n",
       "    <tr style=\"text-align: right;\">\n",
       "      <th></th>\n",
       "      <th>id</th>\n",
       "      <th>time_period</th>\n",
       "      <th>sales</th>\n",
       "      <th>fcst1</th>\n",
       "      <th>fcst2</th>\n",
       "      <th>fcst3</th>\n",
       "      <th>fcst4</th>\n",
       "    </tr>\n",
       "  </thead>\n",
       "  <tbody>\n",
       "    <tr>\n",
       "      <th>count</th>\n",
       "      <td>930.000000</td>\n",
       "      <td>930.000000</td>\n",
       "      <td>930.000000</td>\n",
       "      <td>930.000000</td>\n",
       "      <td>930.000000</td>\n",
       "      <td>930.000000</td>\n",
       "      <td>930.000000</td>\n",
       "    </tr>\n",
       "    <tr>\n",
       "      <th>mean</th>\n",
       "      <td>58.306452</td>\n",
       "      <td>4.534409</td>\n",
       "      <td>5835.806452</td>\n",
       "      <td>4576.589131</td>\n",
       "      <td>5163.660530</td>\n",
       "      <td>4641.841656</td>\n",
       "      <td>4013.288654</td>\n",
       "    </tr>\n",
       "    <tr>\n",
       "      <th>std</th>\n",
       "      <td>33.877123</td>\n",
       "      <td>2.289913</td>\n",
       "      <td>11802.887836</td>\n",
       "      <td>9333.606705</td>\n",
       "      <td>8633.606995</td>\n",
       "      <td>9882.923464</td>\n",
       "      <td>7303.040683</td>\n",
       "    </tr>\n",
       "    <tr>\n",
       "      <th>min</th>\n",
       "      <td>0.000000</td>\n",
       "      <td>1.000000</td>\n",
       "      <td>1.000000</td>\n",
       "      <td>47.578076</td>\n",
       "      <td>-598.811065</td>\n",
       "      <td>-180.897304</td>\n",
       "      <td>-33.547054</td>\n",
       "    </tr>\n",
       "    <tr>\n",
       "      <th>25%</th>\n",
       "      <td>29.000000</td>\n",
       "      <td>3.000000</td>\n",
       "      <td>758.000000</td>\n",
       "      <td>608.830656</td>\n",
       "      <td>1661.954150</td>\n",
       "      <td>777.115580</td>\n",
       "      <td>412.589021</td>\n",
       "    </tr>\n",
       "    <tr>\n",
       "      <th>50%</th>\n",
       "      <td>58.500000</td>\n",
       "      <td>5.000000</td>\n",
       "      <td>2053.500000</td>\n",
       "      <td>1807.898673</td>\n",
       "      <td>2782.451917</td>\n",
       "      <td>1844.123203</td>\n",
       "      <td>1426.920042</td>\n",
       "    </tr>\n",
       "    <tr>\n",
       "      <th>75%</th>\n",
       "      <td>87.750000</td>\n",
       "      <td>7.000000</td>\n",
       "      <td>5466.750000</td>\n",
       "      <td>4883.102332</td>\n",
       "      <td>4960.071922</td>\n",
       "      <td>4387.844722</td>\n",
       "      <td>4279.336002</td>\n",
       "    </tr>\n",
       "    <tr>\n",
       "      <th>max</th>\n",
       "      <td>120.000000</td>\n",
       "      <td>8.000000</td>\n",
       "      <td>128950.000000</td>\n",
       "      <td>135445.001194</td>\n",
       "      <td>112443.508856</td>\n",
       "      <td>139351.046333</td>\n",
       "      <td>66383.716284</td>\n",
       "    </tr>\n",
       "  </tbody>\n",
       "</table>\n",
       "</div>"
      ],
      "text/plain": [
       "               id  time_period          sales          fcst1          fcst2  \\\n",
       "count  930.000000   930.000000     930.000000     930.000000     930.000000   \n",
       "mean    58.306452     4.534409    5835.806452    4576.589131    5163.660530   \n",
       "std     33.877123     2.289913   11802.887836    9333.606705    8633.606995   \n",
       "min      0.000000     1.000000       1.000000      47.578076    -598.811065   \n",
       "25%     29.000000     3.000000     758.000000     608.830656    1661.954150   \n",
       "50%     58.500000     5.000000    2053.500000    1807.898673    2782.451917   \n",
       "75%     87.750000     7.000000    5466.750000    4883.102332    4960.071922   \n",
       "max    120.000000     8.000000  128950.000000  135445.001194  112443.508856   \n",
       "\n",
       "               fcst3         fcst4  \n",
       "count     930.000000    930.000000  \n",
       "mean     4641.841656   4013.288654  \n",
       "std      9882.923464   7303.040683  \n",
       "min      -180.897304    -33.547054  \n",
       "25%       777.115580    412.589021  \n",
       "50%      1844.123203   1426.920042  \n",
       "75%      4387.844722   4279.336002  \n",
       "max    139351.046333  66383.716284  "
      ]
     },
     "execution_count": 6,
     "metadata": {},
     "output_type": "execute_result"
    }
   ],
   "source": [
    "table.describe()"
   ]
  },
  {
   "cell_type": "markdown",
   "id": "ede2d793",
   "metadata": {},
   "source": [
    "Пропущенных значений и нулей нет, айдишники и временные метки преобразований не требуют"
   ]
  },
  {
   "cell_type": "markdown",
   "id": "d0b1faa2",
   "metadata": {},
   "source": [
    "У трех моделей наблюдаем отрицательные значения, проверим насколько много таких выбросов"
   ]
  },
  {
   "cell_type": "code",
   "execution_count": 7,
   "id": "06c147a4",
   "metadata": {},
   "outputs": [
    {
     "data": {
      "text/html": [
       "<div>\n",
       "<style scoped>\n",
       "    .dataframe tbody tr th:only-of-type {\n",
       "        vertical-align: middle;\n",
       "    }\n",
       "\n",
       "    .dataframe tbody tr th {\n",
       "        vertical-align: top;\n",
       "    }\n",
       "\n",
       "    .dataframe thead th {\n",
       "        text-align: right;\n",
       "    }\n",
       "</style>\n",
       "<table border=\"1\" class=\"dataframe\">\n",
       "  <thead>\n",
       "    <tr style=\"text-align: right;\">\n",
       "      <th></th>\n",
       "      <th>id</th>\n",
       "      <th>time_period</th>\n",
       "      <th>sales</th>\n",
       "      <th>fcst1</th>\n",
       "      <th>fcst2</th>\n",
       "      <th>fcst3</th>\n",
       "      <th>fcst4</th>\n",
       "    </tr>\n",
       "  </thead>\n",
       "  <tbody>\n",
       "    <tr>\n",
       "      <th>267</th>\n",
       "      <td>3</td>\n",
       "      <td>3</td>\n",
       "      <td>629.0</td>\n",
       "      <td>1217.393804</td>\n",
       "      <td>-598.811065</td>\n",
       "      <td>1638.073896</td>\n",
       "      <td>1368.579021</td>\n",
       "    </tr>\n",
       "    <tr>\n",
       "      <th>322</th>\n",
       "      <td>56</td>\n",
       "      <td>3</td>\n",
       "      <td>256.0</td>\n",
       "      <td>324.814822</td>\n",
       "      <td>-12.078556</td>\n",
       "      <td>222.245280</td>\n",
       "      <td>233.006340</td>\n",
       "    </tr>\n",
       "    <tr>\n",
       "      <th>427</th>\n",
       "      <td>3</td>\n",
       "      <td>4</td>\n",
       "      <td>596.0</td>\n",
       "      <td>918.979979</td>\n",
       "      <td>-346.044486</td>\n",
       "      <td>1223.218830</td>\n",
       "      <td>906.262423</td>\n",
       "    </tr>\n",
       "    <tr>\n",
       "      <th>522</th>\n",
       "      <td>3</td>\n",
       "      <td>5</td>\n",
       "      <td>392.0</td>\n",
       "      <td>892.902306</td>\n",
       "      <td>-384.462354</td>\n",
       "      <td>1283.148247</td>\n",
       "      <td>1029.801734</td>\n",
       "    </tr>\n",
       "    <tr>\n",
       "      <th>654</th>\n",
       "      <td>3</td>\n",
       "      <td>6</td>\n",
       "      <td>463.0</td>\n",
       "      <td>1306.697973</td>\n",
       "      <td>-381.796940</td>\n",
       "      <td>1700.005139</td>\n",
       "      <td>1407.558994</td>\n",
       "    </tr>\n",
       "    <tr>\n",
       "      <th>799</th>\n",
       "      <td>3</td>\n",
       "      <td>7</td>\n",
       "      <td>320.0</td>\n",
       "      <td>883.999918</td>\n",
       "      <td>-335.031317</td>\n",
       "      <td>1309.236461</td>\n",
       "      <td>1012.855068</td>\n",
       "    </tr>\n",
       "    <tr>\n",
       "      <th>871</th>\n",
       "      <td>3</td>\n",
       "      <td>8</td>\n",
       "      <td>2280.0</td>\n",
       "      <td>883.176212</td>\n",
       "      <td>-368.238770</td>\n",
       "      <td>1323.570857</td>\n",
       "      <td>1090.849136</td>\n",
       "    </tr>\n",
       "  </tbody>\n",
       "</table>\n",
       "</div>"
      ],
      "text/plain": [
       "     id  time_period   sales        fcst1       fcst2        fcst3  \\\n",
       "267   3            3   629.0  1217.393804 -598.811065  1638.073896   \n",
       "322  56            3   256.0   324.814822  -12.078556   222.245280   \n",
       "427   3            4   596.0   918.979979 -346.044486  1223.218830   \n",
       "522   3            5   392.0   892.902306 -384.462354  1283.148247   \n",
       "654   3            6   463.0  1306.697973 -381.796940  1700.005139   \n",
       "799   3            7   320.0   883.999918 -335.031317  1309.236461   \n",
       "871   3            8  2280.0   883.176212 -368.238770  1323.570857   \n",
       "\n",
       "           fcst4  \n",
       "267  1368.579021  \n",
       "322   233.006340  \n",
       "427   906.262423  \n",
       "522  1029.801734  \n",
       "654  1407.558994  \n",
       "799  1012.855068  \n",
       "871  1090.849136  "
      ]
     },
     "execution_count": 7,
     "metadata": {},
     "output_type": "execute_result"
    }
   ],
   "source": [
    "table[table.fcst2 < 0]"
   ]
  },
  {
   "cell_type": "code",
   "execution_count": 8,
   "id": "ed921b95",
   "metadata": {},
   "outputs": [
    {
     "data": {
      "text/html": [
       "<div>\n",
       "<style scoped>\n",
       "    .dataframe tbody tr th:only-of-type {\n",
       "        vertical-align: middle;\n",
       "    }\n",
       "\n",
       "    .dataframe tbody tr th {\n",
       "        vertical-align: top;\n",
       "    }\n",
       "\n",
       "    .dataframe thead th {\n",
       "        text-align: right;\n",
       "    }\n",
       "</style>\n",
       "<table border=\"1\" class=\"dataframe\">\n",
       "  <thead>\n",
       "    <tr style=\"text-align: right;\">\n",
       "      <th></th>\n",
       "      <th>id</th>\n",
       "      <th>time_period</th>\n",
       "      <th>sales</th>\n",
       "      <th>fcst1</th>\n",
       "      <th>fcst2</th>\n",
       "      <th>fcst3</th>\n",
       "      <th>fcst4</th>\n",
       "    </tr>\n",
       "  </thead>\n",
       "  <tbody>\n",
       "    <tr>\n",
       "      <th>229</th>\n",
       "      <td>70</td>\n",
       "      <td>3</td>\n",
       "      <td>329.0</td>\n",
       "      <td>271.582036</td>\n",
       "      <td>1300.009588</td>\n",
       "      <td>-7.130992</td>\n",
       "      <td>49.920105</td>\n",
       "    </tr>\n",
       "    <tr>\n",
       "      <th>318</th>\n",
       "      <td>41</td>\n",
       "      <td>3</td>\n",
       "      <td>457.0</td>\n",
       "      <td>468.783149</td>\n",
       "      <td>2114.621573</td>\n",
       "      <td>-13.766030</td>\n",
       "      <td>42.884493</td>\n",
       "    </tr>\n",
       "    <tr>\n",
       "      <th>348</th>\n",
       "      <td>47</td>\n",
       "      <td>4</td>\n",
       "      <td>1.0</td>\n",
       "      <td>63.018438</td>\n",
       "      <td>482.180784</td>\n",
       "      <td>-180.897304</td>\n",
       "      <td>6.795815</td>\n",
       "    </tr>\n",
       "  </tbody>\n",
       "</table>\n",
       "</div>"
      ],
      "text/plain": [
       "     id  time_period  sales       fcst1        fcst2       fcst3      fcst4\n",
       "229  70            3  329.0  271.582036  1300.009588   -7.130992  49.920105\n",
       "318  41            3  457.0  468.783149  2114.621573  -13.766030  42.884493\n",
       "348  47            4    1.0   63.018438   482.180784 -180.897304   6.795815"
      ]
     },
     "execution_count": 8,
     "metadata": {},
     "output_type": "execute_result"
    }
   ],
   "source": [
    "table[table.fcst3 < 0]"
   ]
  },
  {
   "cell_type": "code",
   "execution_count": 9,
   "id": "532e0a64",
   "metadata": {},
   "outputs": [
    {
     "data": {
      "text/html": [
       "<div>\n",
       "<style scoped>\n",
       "    .dataframe tbody tr th:only-of-type {\n",
       "        vertical-align: middle;\n",
       "    }\n",
       "\n",
       "    .dataframe tbody tr th {\n",
       "        vertical-align: top;\n",
       "    }\n",
       "\n",
       "    .dataframe thead th {\n",
       "        text-align: right;\n",
       "    }\n",
       "</style>\n",
       "<table border=\"1\" class=\"dataframe\">\n",
       "  <thead>\n",
       "    <tr style=\"text-align: right;\">\n",
       "      <th></th>\n",
       "      <th>id</th>\n",
       "      <th>time_period</th>\n",
       "      <th>sales</th>\n",
       "      <th>fcst1</th>\n",
       "      <th>fcst2</th>\n",
       "      <th>fcst3</th>\n",
       "      <th>fcst4</th>\n",
       "    </tr>\n",
       "  </thead>\n",
       "  <tbody>\n",
       "    <tr>\n",
       "      <th>98</th>\n",
       "      <td>98</td>\n",
       "      <td>1</td>\n",
       "      <td>13301.0</td>\n",
       "      <td>3730.953238</td>\n",
       "      <td>5452.613747</td>\n",
       "      <td>2961.530749</td>\n",
       "      <td>-33.547054</td>\n",
       "    </tr>\n",
       "    <tr>\n",
       "      <th>363</th>\n",
       "      <td>52</td>\n",
       "      <td>4</td>\n",
       "      <td>3.0</td>\n",
       "      <td>102.025875</td>\n",
       "      <td>691.090831</td>\n",
       "      <td>109.709187</td>\n",
       "      <td>-5.788873</td>\n",
       "    </tr>\n",
       "    <tr>\n",
       "      <th>372</th>\n",
       "      <td>41</td>\n",
       "      <td>4</td>\n",
       "      <td>9.0</td>\n",
       "      <td>230.031687</td>\n",
       "      <td>1430.217227</td>\n",
       "      <td>194.693049</td>\n",
       "      <td>-3.308518</td>\n",
       "    </tr>\n",
       "    <tr>\n",
       "      <th>404</th>\n",
       "      <td>63</td>\n",
       "      <td>4</td>\n",
       "      <td>8.0</td>\n",
       "      <td>343.050336</td>\n",
       "      <td>2135.980704</td>\n",
       "      <td>292.470357</td>\n",
       "      <td>-7.679724</td>\n",
       "    </tr>\n",
       "    <tr>\n",
       "      <th>421</th>\n",
       "      <td>61</td>\n",
       "      <td>4</td>\n",
       "      <td>2077.0</td>\n",
       "      <td>402.188841</td>\n",
       "      <td>1684.626236</td>\n",
       "      <td>597.121376</td>\n",
       "      <td>-0.049494</td>\n",
       "    </tr>\n",
       "    <tr>\n",
       "      <th>605</th>\n",
       "      <td>28</td>\n",
       "      <td>6</td>\n",
       "      <td>2031.0</td>\n",
       "      <td>573.853964</td>\n",
       "      <td>1639.232357</td>\n",
       "      <td>175.931620</td>\n",
       "      <td>-13.174704</td>\n",
       "    </tr>\n",
       "  </tbody>\n",
       "</table>\n",
       "</div>"
      ],
      "text/plain": [
       "     id  time_period    sales        fcst1        fcst2        fcst3  \\\n",
       "98   98            1  13301.0  3730.953238  5452.613747  2961.530749   \n",
       "363  52            4      3.0   102.025875   691.090831   109.709187   \n",
       "372  41            4      9.0   230.031687  1430.217227   194.693049   \n",
       "404  63            4      8.0   343.050336  2135.980704   292.470357   \n",
       "421  61            4   2077.0   402.188841  1684.626236   597.121376   \n",
       "605  28            6   2031.0   573.853964  1639.232357   175.931620   \n",
       "\n",
       "         fcst4  \n",
       "98  -33.547054  \n",
       "363  -5.788873  \n",
       "372  -3.308518  \n",
       "404  -7.679724  \n",
       "421  -0.049494  \n",
       "605 -13.174704  "
      ]
     },
     "execution_count": 9,
     "metadata": {},
     "output_type": "execute_result"
    }
   ],
   "source": [
    "table[table.fcst4 < 0]"
   ]
  },
  {
   "cell_type": "markdown",
   "id": "23b97b19",
   "metadata": {},
   "source": [
    "Видим, что больше таких значений у второй модели, но в целом, погрешность меньше 1 процента. \n",
    "\n",
    "У второй модели почти все минусы связаны с товаром с id 3 ( в 6-и из 8-ми временных периодов модель этот товар посчитала в ноль). У четвертой выбросы чаще связаны с 4-ым периодом. "
   ]
  },
  {
   "cell_type": "markdown",
   "id": "155a6b5d",
   "metadata": {},
   "source": [
    "Посмотрим, как данные о продажах выглядят на графике"
   ]
  },
  {
   "cell_type": "code",
   "execution_count": 10,
   "id": "510fa384",
   "metadata": {},
   "outputs": [
    {
     "data": {
      "text/plain": [
       "<seaborn.axisgrid.FacetGrid at 0x7f9b9a694e80>"
      ]
     },
     "execution_count": 10,
     "metadata": {},
     "output_type": "execute_result"
    },
    {
     "data": {
      "image/png": "[encoded data removed]",
      "text/plain": [
       "<Figure size 360x360 with 1 Axes>"
      ]
     },
     "metadata": {},
     "output_type": "display_data"
    }
   ],
   "source": [
    "sns.displot(table.sales, kde=False)"
   ]
  },
  {
   "cell_type": "markdown",
   "id": "6b806190",
   "metadata": {},
   "source": [
    "Видим, что наибольшее количество приходится на показатели продаж до 5000. Плавно уменьшается до 20000 и после этого значения показатели встречаются редко. Поделим наши данные на три группы по продажам, чтобы проверить насколько хорошо разные прогнозы справляются с разными показателями.\n",
    "\n",
    "1 - до 5000; 2 - от 5000 до 20000; 3 - более 20000"
   ]
  },
  {
   "cell_type": "markdown",
   "id": "716117f6",
   "metadata": {},
   "source": [
    "Так же посмотрим на самые продаваемые товары, чтобы посмотреть, как метрики справляются с бестселлерами"
   ]
  },
  {
   "cell_type": "code",
   "execution_count": 12,
   "id": "05a30594",
   "metadata": {},
   "outputs": [
    {
     "data": {
      "text/html": [
       "<div>\n",
       "<style scoped>\n",
       "    .dataframe tbody tr th:only-of-type {\n",
       "        vertical-align: middle;\n",
       "    }\n",
       "\n",
       "    .dataframe tbody tr th {\n",
       "        vertical-align: top;\n",
       "    }\n",
       "\n",
       "    .dataframe thead th {\n",
       "        text-align: right;\n",
       "    }\n",
       "</style>\n",
       "<table border=\"1\" class=\"dataframe\">\n",
       "  <thead>\n",
       "    <tr style=\"text-align: right;\">\n",
       "      <th></th>\n",
       "      <th>id</th>\n",
       "      <th>sales</th>\n",
       "    </tr>\n",
       "  </thead>\n",
       "  <tbody>\n",
       "    <tr>\n",
       "      <th>79</th>\n",
       "      <td>79</td>\n",
       "      <td>684320.0</td>\n",
       "    </tr>\n",
       "    <tr>\n",
       "      <th>77</th>\n",
       "      <td>77</td>\n",
       "      <td>324014.0</td>\n",
       "    </tr>\n",
       "    <tr>\n",
       "      <th>85</th>\n",
       "      <td>85</td>\n",
       "      <td>298491.0</td>\n",
       "    </tr>\n",
       "    <tr>\n",
       "      <th>117</th>\n",
       "      <td>117</td>\n",
       "      <td>276159.0</td>\n",
       "    </tr>\n",
       "    <tr>\n",
       "      <th>64</th>\n",
       "      <td>64</td>\n",
       "      <td>238596.0</td>\n",
       "    </tr>\n",
       "  </tbody>\n",
       "</table>\n",
       "</div>"
      ],
      "text/plain": [
       "      id     sales\n",
       "79    79  684320.0\n",
       "77    77  324014.0\n",
       "85    85  298491.0\n",
       "117  117  276159.0\n",
       "64    64  238596.0"
      ]
     },
     "execution_count": 12,
     "metadata": {},
     "output_type": "execute_result"
    }
   ],
   "source": [
    "table.groupby('id', as_index=False).agg({'sales' : 'sum'}) \\\n",
    "    .sort_values('sales', ascending=False) \\\n",
    "    .head()"
   ]
  },
  {
   "cell_type": "markdown",
   "id": "3c5d538c",
   "metadata": {},
   "source": [
    "Сделаем три таблицы с диапазонами продаж"
   ]
  },
  {
   "cell_type": "code",
   "execution_count": 13,
   "id": "362cda57",
   "metadata": {},
   "outputs": [],
   "source": [
    "table1 = table[table.sales < 5000]"
   ]
  },
  {
   "cell_type": "code",
   "execution_count": 14,
   "id": "7467f0b0",
   "metadata": {},
   "outputs": [],
   "source": [
    "table2 = table.loc[(table.sales > 5000) & (table.sales < 20000), :]"
   ]
  },
  {
   "cell_type": "code",
   "execution_count": 15,
   "id": "5b561aca",
   "metadata": {},
   "outputs": [],
   "source": [
    "table3 = table[table.sales > 20000]"
   ]
  },
  {
   "cell_type": "markdown",
   "id": "6d5930fb",
   "metadata": {},
   "source": [
    "Посчитаем MAPE каждого прогноза для общих данных, для каждого из трех диапазонов продаж и для бестселлеров"
   ]
  },
  {
   "cell_type": "code",
   "execution_count": 16,
   "id": "55633fb7",
   "metadata": {},
   "outputs": [],
   "source": [
    "def MAPE(true: np.array, pred: np.array, acceptable_error:float=0.4) -> float:\n",
    "    vector_of_errors = np.where(true == 0,\n",
    "                                    0,\n",
    "\n",
    "                                    np.where(np.abs(true - pred) >\n",
    "    true*acceptable_error,\n",
    "                                     0, \n",
    "                                     1 \n",
    "                                    )\n",
    "                            )\n",
    "    return np.sum(vector_of_errors) / len(vector_of_errors)"
   ]
  },
  {
   "cell_type": "markdown",
   "id": "7329dea2",
   "metadata": {},
   "source": [
    "Для общих данных\n",
    "\n",
    "* Далее будет большое количество строчек подсчетов, я хотел просто вставить данные из черновика, но решил, что будет лучше, если ты будешь видеть все подсчеты, во избежание или обнаружение ошибок. Так же, наверняка, можно сделать все эти подсчеты более аккуратно и компактно, буду рад, если покажешь как"
   ]
  },
  {
   "cell_type": "code",
   "execution_count": 17,
   "id": "0b359ebf",
   "metadata": {},
   "outputs": [],
   "source": [
    "true = table.sales\n",
    "pred = table.fcst1"
   ]
  },
  {
   "cell_type": "code",
   "execution_count": 18,
   "id": "c2c352a4",
   "metadata": {},
   "outputs": [
    {
     "data": {
      "text/plain": [
       "0.5268817204301075"
      ]
     },
     "execution_count": 18,
     "metadata": {},
     "output_type": "execute_result"
    }
   ],
   "source": [
    "MAPE(true, pred)"
   ]
  },
  {
   "cell_type": "code",
   "execution_count": 19,
   "id": "8238f103",
   "metadata": {},
   "outputs": [],
   "source": [
    "true = table.sales\n",
    "pred = table.fcst2"
   ]
  },
  {
   "cell_type": "code",
   "execution_count": 20,
   "id": "230f77be",
   "metadata": {},
   "outputs": [
    {
     "data": {
      "text/plain": [
       "0.4290322580645161"
      ]
     },
     "execution_count": 20,
     "metadata": {},
     "output_type": "execute_result"
    }
   ],
   "source": [
    "MAPE(true, pred)"
   ]
  },
  {
   "cell_type": "code",
   "execution_count": 21,
   "id": "af9b5f5f",
   "metadata": {},
   "outputs": [],
   "source": [
    "true = table.sales\n",
    "pred = table.fcst3"
   ]
  },
  {
   "cell_type": "code",
   "execution_count": 22,
   "id": "5624e823",
   "metadata": {},
   "outputs": [
    {
     "data": {
      "text/plain": [
       "0.5118279569892473"
      ]
     },
     "execution_count": 22,
     "metadata": {},
     "output_type": "execute_result"
    }
   ],
   "source": [
    "MAPE(true, pred)"
   ]
  },
  {
   "cell_type": "code",
   "execution_count": 23,
   "id": "ea789bd5",
   "metadata": {},
   "outputs": [],
   "source": [
    "true = table.sales\n",
    "pred = table.fcst4"
   ]
  },
  {
   "cell_type": "code",
   "execution_count": 24,
   "id": "823290ce",
   "metadata": {},
   "outputs": [
    {
     "data": {
      "text/plain": [
       "0.4505376344086022"
      ]
     },
     "execution_count": 24,
     "metadata": {},
     "output_type": "execute_result"
    }
   ],
   "source": [
    "MAPE(true, pred)"
   ]
  },
  {
   "cell_type": "markdown",
   "id": "932c048d",
   "metadata": {},
   "source": [
    "Для продаж до 5000"
   ]
  },
  {
   "cell_type": "code",
   "execution_count": 25,
   "id": "9f692c7f",
   "metadata": {},
   "outputs": [],
   "source": [
    "true = table1.sales\n",
    "pred = table1.fcst1"
   ]
  },
  {
   "cell_type": "code",
   "execution_count": 26,
   "id": "46f43fc5",
   "metadata": {},
   "outputs": [
    {
     "data": {
      "text/plain": [
       "0.5051546391752577"
      ]
     },
     "execution_count": 26,
     "metadata": {},
     "output_type": "execute_result"
    }
   ],
   "source": [
    "MAPE(true, pred)"
   ]
  },
  {
   "cell_type": "code",
   "execution_count": 29,
   "id": "3be03dfc",
   "metadata": {},
   "outputs": [],
   "source": [
    "true = table1.sales\n",
    "pred = table1.fcst2"
   ]
  },
  {
   "cell_type": "code",
   "execution_count": 30,
   "id": "616612b1",
   "metadata": {},
   "outputs": [
    {
     "data": {
      "text/plain": [
       "0.36229749631811486"
      ]
     },
     "execution_count": 30,
     "metadata": {},
     "output_type": "execute_result"
    }
   ],
   "source": [
    "MAPE(true, pred)"
   ]
  },
  {
   "cell_type": "code",
   "execution_count": 31,
   "id": "3da1c555",
   "metadata": {},
   "outputs": [],
   "source": [
    "true = table1.sales\n",
    "pred = table1.fcst3"
   ]
  },
  {
   "cell_type": "code",
   "execution_count": 32,
   "id": "eccd2870",
   "metadata": {},
   "outputs": [
    {
     "data": {
      "text/plain": [
       "0.5066273932253313"
      ]
     },
     "execution_count": 32,
     "metadata": {},
     "output_type": "execute_result"
    }
   ],
   "source": [
    "MAPE(true, pred)"
   ]
  },
  {
   "cell_type": "code",
   "execution_count": 33,
   "id": "8b321d2e",
   "metadata": {},
   "outputs": [],
   "source": [
    "true = table1.sales\n",
    "pred = table1.fcst4"
   ]
  },
  {
   "cell_type": "code",
   "execution_count": 34,
   "id": "a694a6cb",
   "metadata": {},
   "outputs": [
    {
     "data": {
      "text/plain": [
       "0.43888070692194403"
      ]
     },
     "execution_count": 34,
     "metadata": {},
     "output_type": "execute_result"
    }
   ],
   "source": [
    "MAPE(true, pred)"
   ]
  },
  {
   "cell_type": "markdown",
   "id": "649d31d9",
   "metadata": {},
   "source": [
    "Для продаж от 5 до 20000"
   ]
  },
  {
   "cell_type": "code",
   "execution_count": 35,
   "id": "5103cb9c",
   "metadata": {},
   "outputs": [],
   "source": [
    "true = table2.sales\n",
    "pred = table2.fcst1"
   ]
  },
  {
   "cell_type": "code",
   "execution_count": 36,
   "id": "70beb42b",
   "metadata": {},
   "outputs": [
    {
     "data": {
      "text/plain": [
       "0.6666666666666666"
      ]
     },
     "execution_count": 36,
     "metadata": {},
     "output_type": "execute_result"
    }
   ],
   "source": [
    "MAPE(true, pred)"
   ]
  },
  {
   "cell_type": "code",
   "execution_count": 37,
   "id": "baa9efb5",
   "metadata": {},
   "outputs": [],
   "source": [
    "true = table2.sales\n",
    "pred = table2.fcst2"
   ]
  },
  {
   "cell_type": "code",
   "execution_count": 38,
   "id": "d988fc11",
   "metadata": {},
   "outputs": [
    {
     "data": {
      "text/plain": [
       "0.6825396825396826"
      ]
     },
     "execution_count": 38,
     "metadata": {},
     "output_type": "execute_result"
    }
   ],
   "source": [
    "MAPE(true, pred)"
   ]
  },
  {
   "cell_type": "code",
   "execution_count": 39,
   "id": "d0c9f8dd",
   "metadata": {},
   "outputs": [],
   "source": [
    "true = table2.sales\n",
    "pred = table2.fcst3"
   ]
  },
  {
   "cell_type": "code",
   "execution_count": 40,
   "id": "b20eb483",
   "metadata": {},
   "outputs": [
    {
     "data": {
      "text/plain": [
       "0.5714285714285714"
      ]
     },
     "execution_count": 40,
     "metadata": {},
     "output_type": "execute_result"
    }
   ],
   "source": [
    "MAPE(true, pred)"
   ]
  },
  {
   "cell_type": "code",
   "execution_count": 41,
   "id": "01200340",
   "metadata": {},
   "outputs": [],
   "source": [
    "true = table2.sales\n",
    "pred = table2.fcst4"
   ]
  },
  {
   "cell_type": "code",
   "execution_count": 42,
   "id": "cd1ab218",
   "metadata": {},
   "outputs": [
    {
     "data": {
      "text/plain": [
       "0.5238095238095238"
      ]
     },
     "execution_count": 42,
     "metadata": {},
     "output_type": "execute_result"
    }
   ],
   "source": [
    "MAPE(true, pred)"
   ]
  },
  {
   "cell_type": "markdown",
   "id": "887264d4",
   "metadata": {},
   "source": [
    "Для продаж свыше 20000"
   ]
  },
  {
   "cell_type": "code",
   "execution_count": 43,
   "id": "11c43911",
   "metadata": {},
   "outputs": [],
   "source": [
    "true = table3.sales\n",
    "pred = table3.fcst1"
   ]
  },
  {
   "cell_type": "code",
   "execution_count": 44,
   "id": "bb4a4dc6",
   "metadata": {},
   "outputs": [
    {
     "data": {
      "text/plain": [
       "0.3387096774193548"
      ]
     },
     "execution_count": 44,
     "metadata": {},
     "output_type": "execute_result"
    }
   ],
   "source": [
    "MAPE(true, pred)"
   ]
  },
  {
   "cell_type": "code",
   "execution_count": 45,
   "id": "01117d2e",
   "metadata": {},
   "outputs": [],
   "source": [
    "true = table3.sales\n",
    "pred = table3.fcst2"
   ]
  },
  {
   "cell_type": "code",
   "execution_count": 46,
   "id": "280defdf",
   "metadata": {},
   "outputs": [
    {
     "data": {
      "text/plain": [
       "0.3870967741935484"
      ]
     },
     "execution_count": 46,
     "metadata": {},
     "output_type": "execute_result"
    }
   ],
   "source": [
    "MAPE(true, pred)"
   ]
  },
  {
   "cell_type": "code",
   "execution_count": 47,
   "id": "475f73ec",
   "metadata": {},
   "outputs": [],
   "source": [
    "true = table3.sales\n",
    "pred = table3.fcst3"
   ]
  },
  {
   "cell_type": "code",
   "execution_count": 48,
   "id": "4f3ade13",
   "metadata": {},
   "outputs": [
    {
     "data": {
      "text/plain": [
       "0.3870967741935484"
      ]
     },
     "execution_count": 48,
     "metadata": {},
     "output_type": "execute_result"
    }
   ],
   "source": [
    "MAPE(true, pred)"
   ]
  },
  {
   "cell_type": "code",
   "execution_count": 49,
   "id": "ba70f854",
   "metadata": {},
   "outputs": [],
   "source": [
    "true = table3.sales\n",
    "pred = table3.fcst4"
   ]
  },
  {
   "cell_type": "code",
   "execution_count": 50,
   "id": "77cce689",
   "metadata": {},
   "outputs": [
    {
     "data": {
      "text/plain": [
       "0.3548387096774194"
      ]
     },
     "execution_count": 50,
     "metadata": {},
     "output_type": "execute_result"
    }
   ],
   "source": [
    "MAPE(true, pred)"
   ]
  },
  {
   "cell_type": "markdown",
   "id": "dd247daf",
   "metadata": {},
   "source": [
    "Сделаем таблицы для бестселлеров"
   ]
  },
  {
   "cell_type": "code",
   "execution_count": 51,
   "id": "31c113ef",
   "metadata": {},
   "outputs": [],
   "source": [
    "table79 = table[table['id'] == 79]"
   ]
  },
  {
   "cell_type": "code",
   "execution_count": 52,
   "id": "b6c2bd8c",
   "metadata": {},
   "outputs": [],
   "source": [
    "table77 = table[table['id'] == 77]"
   ]
  },
  {
   "cell_type": "code",
   "execution_count": 53,
   "id": "b3def263",
   "metadata": {},
   "outputs": [],
   "source": [
    "table85 = table[table['id'] == 85]"
   ]
  },
  {
   "cell_type": "code",
   "execution_count": 54,
   "id": "98fb657d",
   "metadata": {},
   "outputs": [],
   "source": [
    "table117 = table[table['id'] == 117]"
   ]
  },
  {
   "cell_type": "code",
   "execution_count": 55,
   "id": "7d13730b",
   "metadata": {},
   "outputs": [],
   "source": [
    "table64 = table[table['id'] == 64]"
   ]
  },
  {
   "cell_type": "markdown",
   "id": "56f4b89c",
   "metadata": {},
   "source": [
    "Посчитаем"
   ]
  },
  {
   "cell_type": "code",
   "execution_count": 56,
   "id": "70daadcb",
   "metadata": {},
   "outputs": [],
   "source": [
    "true = table79.sales\n",
    "pred = table79.fcst1"
   ]
  },
  {
   "cell_type": "code",
   "execution_count": 57,
   "id": "5d10f7d7",
   "metadata": {},
   "outputs": [
    {
     "data": {
      "text/plain": [
       "0.0"
      ]
     },
     "execution_count": 57,
     "metadata": {},
     "output_type": "execute_result"
    }
   ],
   "source": [
    "MAPE(true, pred)"
   ]
  },
  {
   "cell_type": "code",
   "execution_count": 58,
   "id": "595b8680",
   "metadata": {},
   "outputs": [],
   "source": [
    "true = table79.sales\n",
    "pred = table79.fcst2"
   ]
  },
  {
   "cell_type": "code",
   "execution_count": 59,
   "id": "b6ccb969",
   "metadata": {},
   "outputs": [
    {
     "data": {
      "text/plain": [
       "0.0"
      ]
     },
     "execution_count": 59,
     "metadata": {},
     "output_type": "execute_result"
    }
   ],
   "source": [
    "MAPE(true, pred)"
   ]
  },
  {
   "cell_type": "code",
   "execution_count": 60,
   "id": "dc176fcc",
   "metadata": {},
   "outputs": [],
   "source": [
    "true = table79.sales\n",
    "pred = table79.fcst3"
   ]
  },
  {
   "cell_type": "code",
   "execution_count": 61,
   "id": "ee2c6e7c",
   "metadata": {},
   "outputs": [
    {
     "data": {
      "text/plain": [
       "0.0"
      ]
     },
     "execution_count": 61,
     "metadata": {},
     "output_type": "execute_result"
    }
   ],
   "source": [
    "MAPE(true, pred)"
   ]
  },
  {
   "cell_type": "code",
   "execution_count": 62,
   "id": "8ff1d41d",
   "metadata": {},
   "outputs": [],
   "source": [
    "true = table79.sales\n",
    "pred = table79.fcst4"
   ]
  },
  {
   "cell_type": "code",
   "execution_count": 63,
   "id": "781c4652",
   "metadata": {},
   "outputs": [
    {
     "data": {
      "text/plain": [
       "0.0"
      ]
     },
     "execution_count": 63,
     "metadata": {},
     "output_type": "execute_result"
    }
   ],
   "source": [
    "MAPE(true, pred)"
   ]
  },
  {
   "cell_type": "code",
   "execution_count": 64,
   "id": "b1fbe4f1",
   "metadata": {},
   "outputs": [],
   "source": [
    "true = table77.sales\n",
    "pred = table77.fcst1"
   ]
  },
  {
   "cell_type": "code",
   "execution_count": 65,
   "id": "9e1ed340",
   "metadata": {},
   "outputs": [
    {
     "data": {
      "text/plain": [
       "0.5"
      ]
     },
     "execution_count": 65,
     "metadata": {},
     "output_type": "execute_result"
    }
   ],
   "source": [
    "MAPE(true, pred)"
   ]
  },
  {
   "cell_type": "code",
   "execution_count": 66,
   "id": "8496a13d",
   "metadata": {},
   "outputs": [],
   "source": [
    "true = table77.sales\n",
    "pred = table77.fcst2"
   ]
  },
  {
   "cell_type": "code",
   "execution_count": 67,
   "id": "e8a89049",
   "metadata": {},
   "outputs": [
    {
     "data": {
      "text/plain": [
       "0.375"
      ]
     },
     "execution_count": 67,
     "metadata": {},
     "output_type": "execute_result"
    }
   ],
   "source": [
    "MAPE(true, pred)"
   ]
  },
  {
   "cell_type": "code",
   "execution_count": 68,
   "id": "477d93d6",
   "metadata": {},
   "outputs": [],
   "source": [
    "true = table77.sales\n",
    "pred = table77.fcst3"
   ]
  },
  {
   "cell_type": "code",
   "execution_count": 69,
   "id": "e186f37d",
   "metadata": {},
   "outputs": [
    {
     "data": {
      "text/plain": [
       "0.375"
      ]
     },
     "execution_count": 69,
     "metadata": {},
     "output_type": "execute_result"
    }
   ],
   "source": [
    "MAPE(true, pred)"
   ]
  },
  {
   "cell_type": "code",
   "execution_count": 70,
   "id": "ba6b0ec7",
   "metadata": {},
   "outputs": [],
   "source": [
    "true = table77.sales\n",
    "pred = table77.fcst4"
   ]
  },
  {
   "cell_type": "code",
   "execution_count": 71,
   "id": "c4a75679",
   "metadata": {},
   "outputs": [
    {
     "data": {
      "text/plain": [
       "0.375"
      ]
     },
     "execution_count": 71,
     "metadata": {},
     "output_type": "execute_result"
    }
   ],
   "source": [
    "MAPE(true, pred)"
   ]
  },
  {
   "cell_type": "code",
   "execution_count": 72,
   "id": "9b238f9a",
   "metadata": {},
   "outputs": [],
   "source": [
    "true = table85.sales\n",
    "pred = table85.fcst1"
   ]
  },
  {
   "cell_type": "code",
   "execution_count": 73,
   "id": "7d7496be",
   "metadata": {},
   "outputs": [
    {
     "data": {
      "text/plain": [
       "1.0"
      ]
     },
     "execution_count": 73,
     "metadata": {},
     "output_type": "execute_result"
    }
   ],
   "source": [
    "MAPE(true, pred)"
   ]
  },
  {
   "cell_type": "code",
   "execution_count": 74,
   "id": "13abe9cf",
   "metadata": {},
   "outputs": [],
   "source": [
    "true = table85.sales\n",
    "pred = table85.fcst2"
   ]
  },
  {
   "cell_type": "code",
   "execution_count": 75,
   "id": "9d69994d",
   "metadata": {},
   "outputs": [
    {
     "data": {
      "text/plain": [
       "1.0"
      ]
     },
     "execution_count": 75,
     "metadata": {},
     "output_type": "execute_result"
    }
   ],
   "source": [
    "MAPE(true, pred)"
   ]
  },
  {
   "cell_type": "code",
   "execution_count": 76,
   "id": "c4a1c119",
   "metadata": {},
   "outputs": [],
   "source": [
    "true = table85.sales\n",
    "pred = table85.fcst3"
   ]
  },
  {
   "cell_type": "code",
   "execution_count": 77,
   "id": "1b96874b",
   "metadata": {},
   "outputs": [
    {
     "data": {
      "text/plain": [
       "1.0"
      ]
     },
     "execution_count": 77,
     "metadata": {},
     "output_type": "execute_result"
    }
   ],
   "source": [
    "MAPE(true, pred)"
   ]
  },
  {
   "cell_type": "code",
   "execution_count": 78,
   "id": "05322ad9",
   "metadata": {},
   "outputs": [],
   "source": [
    "true = table85.sales\n",
    "pred = table85.fcst4"
   ]
  },
  {
   "cell_type": "code",
   "execution_count": 79,
   "id": "2369d756",
   "metadata": {},
   "outputs": [
    {
     "data": {
      "text/plain": [
       "1.0"
      ]
     },
     "execution_count": 79,
     "metadata": {},
     "output_type": "execute_result"
    }
   ],
   "source": [
    "MAPE(true, pred)"
   ]
  },
  {
   "cell_type": "code",
   "execution_count": 80,
   "id": "a2eadb28",
   "metadata": {},
   "outputs": [],
   "source": [
    "true = table117.sales\n",
    "pred = table117.fcst1"
   ]
  },
  {
   "cell_type": "code",
   "execution_count": 81,
   "id": "7275ee62",
   "metadata": {},
   "outputs": [
    {
     "data": {
      "text/plain": [
       "0.0"
      ]
     },
     "execution_count": 81,
     "metadata": {},
     "output_type": "execute_result"
    }
   ],
   "source": [
    "MAPE(true, pred)"
   ]
  },
  {
   "cell_type": "code",
   "execution_count": 82,
   "id": "39407d11",
   "metadata": {},
   "outputs": [],
   "source": [
    "true = table117.sales\n",
    "pred = table117.fcst2"
   ]
  },
  {
   "cell_type": "code",
   "execution_count": 83,
   "id": "4501cf83",
   "metadata": {},
   "outputs": [
    {
     "data": {
      "text/plain": [
       "0.5"
      ]
     },
     "execution_count": 83,
     "metadata": {},
     "output_type": "execute_result"
    }
   ],
   "source": [
    "MAPE(true, pred)"
   ]
  },
  {
   "cell_type": "code",
   "execution_count": 84,
   "id": "f1e816c4",
   "metadata": {},
   "outputs": [],
   "source": [
    "true = table117.sales\n",
    "pred = table117.fcst3"
   ]
  },
  {
   "cell_type": "code",
   "execution_count": 85,
   "id": "6d9aa075",
   "metadata": {},
   "outputs": [
    {
     "data": {
      "text/plain": [
       "0.0"
      ]
     },
     "execution_count": 85,
     "metadata": {},
     "output_type": "execute_result"
    }
   ],
   "source": [
    "MAPE(true, pred)"
   ]
  },
  {
   "cell_type": "code",
   "execution_count": 86,
   "id": "83d14906",
   "metadata": {},
   "outputs": [],
   "source": [
    "true = table117.sales\n",
    "pred = table117.fcst4"
   ]
  },
  {
   "cell_type": "code",
   "execution_count": 87,
   "id": "13809a12",
   "metadata": {},
   "outputs": [
    {
     "data": {
      "text/plain": [
       "1.0"
      ]
     },
     "execution_count": 87,
     "metadata": {},
     "output_type": "execute_result"
    }
   ],
   "source": [
    "MAPE(true, pred)"
   ]
  },
  {
   "cell_type": "code",
   "execution_count": 88,
   "id": "b806c0a8",
   "metadata": {},
   "outputs": [],
   "source": [
    "true = table64.sales\n",
    "pred = table64.fcst1"
   ]
  },
  {
   "cell_type": "code",
   "execution_count": 89,
   "id": "c288c278",
   "metadata": {},
   "outputs": [
    {
     "data": {
      "text/plain": [
       "0.375"
      ]
     },
     "execution_count": 89,
     "metadata": {},
     "output_type": "execute_result"
    }
   ],
   "source": [
    "MAPE(true, pred)"
   ]
  },
  {
   "cell_type": "code",
   "execution_count": 90,
   "id": "d971a126",
   "metadata": {},
   "outputs": [],
   "source": [
    "true = table64.sales\n",
    "pred = table64.fcst2"
   ]
  },
  {
   "cell_type": "code",
   "execution_count": 91,
   "id": "0e2be93d",
   "metadata": {},
   "outputs": [
    {
     "data": {
      "text/plain": [
       "0.5"
      ]
     },
     "execution_count": 91,
     "metadata": {},
     "output_type": "execute_result"
    }
   ],
   "source": [
    "MAPE(true, pred)"
   ]
  },
  {
   "cell_type": "code",
   "execution_count": 92,
   "id": "f75931cb",
   "metadata": {},
   "outputs": [],
   "source": [
    "true = table64.sales\n",
    "pred = table64.fcst3"
   ]
  },
  {
   "cell_type": "code",
   "execution_count": 94,
   "id": "95cd734b",
   "metadata": {},
   "outputs": [
    {
     "data": {
      "text/plain": [
       "0.625"
      ]
     },
     "execution_count": 94,
     "metadata": {},
     "output_type": "execute_result"
    }
   ],
   "source": [
    "MAPE(true, pred)"
   ]
  },
  {
   "cell_type": "code",
   "execution_count": 95,
   "id": "951c7e50",
   "metadata": {},
   "outputs": [],
   "source": [
    "true = table64.sales\n",
    "pred = table64.fcst4"
   ]
  },
  {
   "cell_type": "code",
   "execution_count": 96,
   "id": "9ec6a106",
   "metadata": {},
   "outputs": [
    {
     "data": {
      "text/plain": [
       "0.125"
      ]
     },
     "execution_count": 96,
     "metadata": {},
     "output_type": "execute_result"
    }
   ],
   "source": [
    "MAPE(true, pred)"
   ]
  },
  {
   "cell_type": "markdown",
   "id": "140f1bed",
   "metadata": {},
   "source": [
    "На основе всех полученных подсчетов MAPE сделал таблицу\n"
   ]
  },
  {
   "cell_type": "code",
   "execution_count": 99,
   "id": "f2bc8967",
   "metadata": {},
   "outputs": [],
   "source": [
    "table_mape = pd.read_csv('/Users/dmyakovlev/Desktop/MAPE.csv')"
   ]
  },
  {
   "cell_type": "code",
   "execution_count": 100,
   "id": "3262ef82",
   "metadata": {},
   "outputs": [
    {
     "data": {
      "text/html": [
       "<div>\n",
       "<style scoped>\n",
       "    .dataframe tbody tr th:only-of-type {\n",
       "        vertical-align: middle;\n",
       "    }\n",
       "\n",
       "    .dataframe tbody tr th {\n",
       "        vertical-align: top;\n",
       "    }\n",
       "\n",
       "    .dataframe thead th {\n",
       "        text-align: right;\n",
       "    }\n",
       "</style>\n",
       "<table border=\"1\" class=\"dataframe\">\n",
       "  <thead>\n",
       "    <tr style=\"text-align: right;\">\n",
       "      <th></th>\n",
       "      <th>table_name</th>\n",
       "      <th>sales</th>\n",
       "      <th>fcst 1</th>\n",
       "      <th>fcst 2</th>\n",
       "      <th>fcst 3</th>\n",
       "      <th>fcst 4</th>\n",
       "    </tr>\n",
       "  </thead>\n",
       "  <tbody>\n",
       "    <tr>\n",
       "      <th>0</th>\n",
       "      <td>table</td>\n",
       "      <td>5427300</td>\n",
       "      <td>0.5</td>\n",
       "      <td>0.4</td>\n",
       "      <td>0.5</td>\n",
       "      <td>0.45</td>\n",
       "    </tr>\n",
       "    <tr>\n",
       "      <th>1</th>\n",
       "      <td>table1</td>\n",
       "      <td>1123773</td>\n",
       "      <td>0.5</td>\n",
       "      <td>0.4</td>\n",
       "      <td>0.5</td>\n",
       "      <td>0.40</td>\n",
       "    </tr>\n",
       "    <tr>\n",
       "      <th>2</th>\n",
       "      <td>table2</td>\n",
       "      <td>1753853</td>\n",
       "      <td>0.7</td>\n",
       "      <td>0.7</td>\n",
       "      <td>0.6</td>\n",
       "      <td>0.50</td>\n",
       "    </tr>\n",
       "    <tr>\n",
       "      <th>3</th>\n",
       "      <td>table3</td>\n",
       "      <td>2549674</td>\n",
       "      <td>0.3</td>\n",
       "      <td>0.4</td>\n",
       "      <td>0.4</td>\n",
       "      <td>0.35</td>\n",
       "    </tr>\n",
       "    <tr>\n",
       "      <th>4</th>\n",
       "      <td>id79</td>\n",
       "      <td>684320</td>\n",
       "      <td>0.0</td>\n",
       "      <td>0.0</td>\n",
       "      <td>0.0</td>\n",
       "      <td>0.00</td>\n",
       "    </tr>\n",
       "    <tr>\n",
       "      <th>5</th>\n",
       "      <td>id77</td>\n",
       "      <td>324014</td>\n",
       "      <td>0.5</td>\n",
       "      <td>0.4</td>\n",
       "      <td>0.4</td>\n",
       "      <td>0.40</td>\n",
       "    </tr>\n",
       "    <tr>\n",
       "      <th>6</th>\n",
       "      <td>id85</td>\n",
       "      <td>298491</td>\n",
       "      <td>1.0</td>\n",
       "      <td>1.0</td>\n",
       "      <td>1.0</td>\n",
       "      <td>1.00</td>\n",
       "    </tr>\n",
       "    <tr>\n",
       "      <th>7</th>\n",
       "      <td>id117</td>\n",
       "      <td>276159</td>\n",
       "      <td>0.0</td>\n",
       "      <td>0.5</td>\n",
       "      <td>0.0</td>\n",
       "      <td>1.00</td>\n",
       "    </tr>\n",
       "    <tr>\n",
       "      <th>8</th>\n",
       "      <td>id64</td>\n",
       "      <td>238569</td>\n",
       "      <td>0.4</td>\n",
       "      <td>0.5</td>\n",
       "      <td>0.6</td>\n",
       "      <td>0.10</td>\n",
       "    </tr>\n",
       "  </tbody>\n",
       "</table>\n",
       "</div>"
      ],
      "text/plain": [
       "  table_name    sales  fcst 1  fcst 2  fcst 3  fcst 4\n",
       "0      table  5427300     0.5     0.4     0.5    0.45\n",
       "1     table1  1123773     0.5     0.4     0.5    0.40\n",
       "2     table2  1753853     0.7     0.7     0.6    0.50\n",
       "3     table3  2549674     0.3     0.4     0.4    0.35\n",
       "4       id79   684320     0.0     0.0     0.0    0.00\n",
       "5       id77   324014     0.5     0.4     0.4    0.40\n",
       "6       id85   298491     1.0     1.0     1.0    1.00\n",
       "7      id117   276159     0.0     0.5     0.0    1.00\n",
       "8       id64   238569     0.4     0.5     0.6    0.10"
      ]
     },
     "execution_count": 100,
     "metadata": {},
     "output_type": "execute_result"
    }
   ],
   "source": [
    "table_mape"
   ]
  },
  {
   "cell_type": "markdown",
   "id": "e56ed255",
   "metadata": {},
   "source": [
    "Посчитаем отклонения для общих даных\n"
   ]
  },
  {
   "cell_type": "markdown",
   "id": "1af643ff",
   "metadata": {},
   "source": [
    "Недопрогнозы"
   ]
  },
  {
   "cell_type": "code",
   "execution_count": 101,
   "id": "078b5216",
   "metadata": {},
   "outputs": [],
   "source": [
    "def percent_under_forecasts(true: np.array, pred: np.array,\n",
    "acceptable_error:float=0.4) -> float:\n",
    "    \n",
    "    under_fcst = np.where(true - pred > true*acceptable_error,\n",
    "                                   1,\n",
    "                                   0\n",
    "                                   )\n",
    "    return sum(under_fcst) / len(under_fcst)"
   ]
  },
  {
   "cell_type": "code",
   "execution_count": 102,
   "id": "63d743c1",
   "metadata": {},
   "outputs": [],
   "source": [
    "true = table.sales\n",
    "pred = table.fcst1"
   ]
  },
  {
   "cell_type": "code",
   "execution_count": 103,
   "id": "23e507c6",
   "metadata": {},
   "outputs": [
    {
     "data": {
      "text/plain": [
       "0.23870967741935484"
      ]
     },
     "execution_count": 103,
     "metadata": {},
     "output_type": "execute_result"
    }
   ],
   "source": [
    "percent_under_forecasts(true, pred)"
   ]
  },
  {
   "cell_type": "code",
   "execution_count": 104,
   "id": "38730415",
   "metadata": {},
   "outputs": [],
   "source": [
    "true = table.sales\n",
    "pred = table.fcst2"
   ]
  },
  {
   "cell_type": "code",
   "execution_count": 105,
   "id": "53f28819",
   "metadata": {},
   "outputs": [
    {
     "data": {
      "text/plain": [
       "0.12903225806451613"
      ]
     },
     "execution_count": 105,
     "metadata": {},
     "output_type": "execute_result"
    }
   ],
   "source": [
    "percent_under_forecasts(true, pred)"
   ]
  },
  {
   "cell_type": "code",
   "execution_count": 106,
   "id": "c5c20663",
   "metadata": {},
   "outputs": [],
   "source": [
    "true = table.sales\n",
    "pred = table.fcst3"
   ]
  },
  {
   "cell_type": "code",
   "execution_count": 107,
   "id": "55cb0f05",
   "metadata": {},
   "outputs": [
    {
     "data": {
      "text/plain": [
       "0.24301075268817204"
      ]
     },
     "execution_count": 107,
     "metadata": {},
     "output_type": "execute_result"
    }
   ],
   "source": [
    "percent_under_forecasts(true, pred)"
   ]
  },
  {
   "cell_type": "code",
   "execution_count": 108,
   "id": "70f93954",
   "metadata": {},
   "outputs": [],
   "source": [
    "true = table.sales\n",
    "pred = table.fcst4"
   ]
  },
  {
   "cell_type": "code",
   "execution_count": 109,
   "id": "f7098463",
   "metadata": {},
   "outputs": [
    {
     "data": {
      "text/plain": [
       "0.34946236559139787"
      ]
     },
     "execution_count": 109,
     "metadata": {},
     "output_type": "execute_result"
    }
   ],
   "source": [
    "percent_under_forecasts(true, pred)"
   ]
  },
  {
   "cell_type": "markdown",
   "id": "28eaeaa1",
   "metadata": {},
   "source": [
    "Перепрогнозы"
   ]
  },
  {
   "cell_type": "code",
   "execution_count": 110,
   "id": "096d4e54",
   "metadata": {},
   "outputs": [],
   "source": [
    "def percent_over_forecasts(true: np.array, pred: np.array,\n",
    "acceptable_error:float=0.4) -> float:\n",
    "    \n",
    "    over_fcst = np.where(pred - true > true*acceptable_error,\n",
    "                                   1,\n",
    "                                   0\n",
    "                                   )\n",
    "    return sum(over_fcst) / len(over_fcst)"
   ]
  },
  {
   "cell_type": "code",
   "execution_count": 111,
   "id": "e4e8e2f0",
   "metadata": {},
   "outputs": [],
   "source": [
    "true = table.sales\n",
    "pred = table.fcst1"
   ]
  },
  {
   "cell_type": "code",
   "execution_count": 112,
   "id": "ca9830a6",
   "metadata": {},
   "outputs": [
    {
     "data": {
      "text/plain": [
       "0.23440860215053763"
      ]
     },
     "execution_count": 112,
     "metadata": {},
     "output_type": "execute_result"
    }
   ],
   "source": [
    "percent_over_forecasts(true, pred)"
   ]
  },
  {
   "cell_type": "code",
   "execution_count": 113,
   "id": "d00a6043",
   "metadata": {},
   "outputs": [],
   "source": [
    "true = table.sales\n",
    "pred = table.fcst2"
   ]
  },
  {
   "cell_type": "code",
   "execution_count": 114,
   "id": "9fb209c9",
   "metadata": {},
   "outputs": [
    {
     "data": {
      "text/plain": [
       "0.44193548387096776"
      ]
     },
     "execution_count": 114,
     "metadata": {},
     "output_type": "execute_result"
    }
   ],
   "source": [
    "percent_over_forecasts(true, pred)"
   ]
  },
  {
   "cell_type": "code",
   "execution_count": 115,
   "id": "80992902",
   "metadata": {},
   "outputs": [],
   "source": [
    "true = table.sales\n",
    "pred = table.fcst3"
   ]
  },
  {
   "cell_type": "code",
   "execution_count": 116,
   "id": "d2685091",
   "metadata": {},
   "outputs": [
    {
     "data": {
      "text/plain": [
       "0.24516129032258063"
      ]
     },
     "execution_count": 116,
     "metadata": {},
     "output_type": "execute_result"
    }
   ],
   "source": [
    "percent_over_forecasts(true, pred)"
   ]
  },
  {
   "cell_type": "code",
   "execution_count": 117,
   "id": "8c923278",
   "metadata": {},
   "outputs": [],
   "source": [
    "true = table.sales\n",
    "pred = table.fcst4"
   ]
  },
  {
   "cell_type": "code",
   "execution_count": 118,
   "id": "f779d91e",
   "metadata": {},
   "outputs": [
    {
     "data": {
      "text/plain": [
       "0.2"
      ]
     },
     "execution_count": 118,
     "metadata": {},
     "output_type": "execute_result"
    }
   ],
   "source": [
    "percent_over_forecasts(true, pred)"
   ]
  },
  {
   "cell_type": "markdown",
   "id": "26909ea8",
   "metadata": {},
   "source": [
    "На основе полученных данных сделал таблицу"
   ]
  },
  {
   "cell_type": "code",
   "execution_count": 119,
   "id": "88726ae1",
   "metadata": {},
   "outputs": [],
   "source": [
    "table_forecasts = pd.read_csv('/Users/dmyakovlev/Desktop/forecasts.csv')"
   ]
  },
  {
   "cell_type": "code",
   "execution_count": 120,
   "id": "5d62900b",
   "metadata": {},
   "outputs": [
    {
     "data": {
      "text/html": [
       "<div>\n",
       "<style scoped>\n",
       "    .dataframe tbody tr th:only-of-type {\n",
       "        vertical-align: middle;\n",
       "    }\n",
       "\n",
       "    .dataframe tbody tr th {\n",
       "        vertical-align: top;\n",
       "    }\n",
       "\n",
       "    .dataframe thead th {\n",
       "        text-align: right;\n",
       "    }\n",
       "</style>\n",
       "<table border=\"1\" class=\"dataframe\">\n",
       "  <thead>\n",
       "    <tr style=\"text-align: right;\">\n",
       "      <th></th>\n",
       "      <th>name</th>\n",
       "      <th>fcst1</th>\n",
       "      <th>fcst2</th>\n",
       "      <th>fcst3</th>\n",
       "      <th>fcst4</th>\n",
       "    </tr>\n",
       "  </thead>\n",
       "  <tbody>\n",
       "    <tr>\n",
       "      <th>0</th>\n",
       "      <td>under</td>\n",
       "      <td>0.2</td>\n",
       "      <td>0.1</td>\n",
       "      <td>0.2</td>\n",
       "      <td>0.3</td>\n",
       "    </tr>\n",
       "    <tr>\n",
       "      <th>1</th>\n",
       "      <td>over</td>\n",
       "      <td>0.2</td>\n",
       "      <td>0.4</td>\n",
       "      <td>0.2</td>\n",
       "      <td>0.2</td>\n",
       "    </tr>\n",
       "    <tr>\n",
       "      <th>2</th>\n",
       "      <td>total</td>\n",
       "      <td>0.4</td>\n",
       "      <td>0.5</td>\n",
       "      <td>0.4</td>\n",
       "      <td>0.5</td>\n",
       "    </tr>\n",
       "  </tbody>\n",
       "</table>\n",
       "</div>"
      ],
      "text/plain": [
       "    name  fcst1  fcst2  fcst3  fcst4\n",
       "0  under    0.2    0.1    0.2    0.3\n",
       "1   over    0.2    0.4    0.2    0.2\n",
       "2  total    0.4    0.5    0.4    0.5"
      ]
     },
     "execution_count": 120,
     "metadata": {},
     "output_type": "execute_result"
    }
   ],
   "source": [
    "table_forecasts"
   ]
  },
  {
   "cell_type": "code",
   "execution_count": 121,
   "id": "2ef515e9",
   "metadata": {},
   "outputs": [
    {
     "data": {
      "text/html": [
       "<div>\n",
       "<style scoped>\n",
       "    .dataframe tbody tr th:only-of-type {\n",
       "        vertical-align: middle;\n",
       "    }\n",
       "\n",
       "    .dataframe tbody tr th {\n",
       "        vertical-align: top;\n",
       "    }\n",
       "\n",
       "    .dataframe thead th {\n",
       "        text-align: right;\n",
       "    }\n",
       "</style>\n",
       "<table border=\"1\" class=\"dataframe\">\n",
       "  <thead>\n",
       "    <tr style=\"text-align: right;\">\n",
       "      <th></th>\n",
       "      <th>table_name</th>\n",
       "      <th>sales</th>\n",
       "      <th>fcst 1</th>\n",
       "      <th>fcst 2</th>\n",
       "      <th>fcst 3</th>\n",
       "      <th>fcst 4</th>\n",
       "    </tr>\n",
       "  </thead>\n",
       "  <tbody>\n",
       "    <tr>\n",
       "      <th>0</th>\n",
       "      <td>table</td>\n",
       "      <td>5427300</td>\n",
       "      <td>0.5</td>\n",
       "      <td>0.4</td>\n",
       "      <td>0.5</td>\n",
       "      <td>0.45</td>\n",
       "    </tr>\n",
       "    <tr>\n",
       "      <th>1</th>\n",
       "      <td>table1</td>\n",
       "      <td>1123773</td>\n",
       "      <td>0.5</td>\n",
       "      <td>0.4</td>\n",
       "      <td>0.5</td>\n",
       "      <td>0.40</td>\n",
       "    </tr>\n",
       "    <tr>\n",
       "      <th>2</th>\n",
       "      <td>table2</td>\n",
       "      <td>1753853</td>\n",
       "      <td>0.7</td>\n",
       "      <td>0.7</td>\n",
       "      <td>0.6</td>\n",
       "      <td>0.50</td>\n",
       "    </tr>\n",
       "    <tr>\n",
       "      <th>3</th>\n",
       "      <td>table3</td>\n",
       "      <td>2549674</td>\n",
       "      <td>0.3</td>\n",
       "      <td>0.4</td>\n",
       "      <td>0.4</td>\n",
       "      <td>0.35</td>\n",
       "    </tr>\n",
       "    <tr>\n",
       "      <th>4</th>\n",
       "      <td>id79</td>\n",
       "      <td>684320</td>\n",
       "      <td>0.0</td>\n",
       "      <td>0.0</td>\n",
       "      <td>0.0</td>\n",
       "      <td>0.00</td>\n",
       "    </tr>\n",
       "    <tr>\n",
       "      <th>5</th>\n",
       "      <td>id77</td>\n",
       "      <td>324014</td>\n",
       "      <td>0.5</td>\n",
       "      <td>0.4</td>\n",
       "      <td>0.4</td>\n",
       "      <td>0.40</td>\n",
       "    </tr>\n",
       "    <tr>\n",
       "      <th>6</th>\n",
       "      <td>id85</td>\n",
       "      <td>298491</td>\n",
       "      <td>1.0</td>\n",
       "      <td>1.0</td>\n",
       "      <td>1.0</td>\n",
       "      <td>1.00</td>\n",
       "    </tr>\n",
       "    <tr>\n",
       "      <th>7</th>\n",
       "      <td>id117</td>\n",
       "      <td>276159</td>\n",
       "      <td>0.0</td>\n",
       "      <td>0.5</td>\n",
       "      <td>0.0</td>\n",
       "      <td>1.00</td>\n",
       "    </tr>\n",
       "    <tr>\n",
       "      <th>8</th>\n",
       "      <td>id64</td>\n",
       "      <td>238569</td>\n",
       "      <td>0.4</td>\n",
       "      <td>0.5</td>\n",
       "      <td>0.6</td>\n",
       "      <td>0.10</td>\n",
       "    </tr>\n",
       "  </tbody>\n",
       "</table>\n",
       "</div>"
      ],
      "text/plain": [
       "  table_name    sales  fcst 1  fcst 2  fcst 3  fcst 4\n",
       "0      table  5427300     0.5     0.4     0.5    0.45\n",
       "1     table1  1123773     0.5     0.4     0.5    0.40\n",
       "2     table2  1753853     0.7     0.7     0.6    0.50\n",
       "3     table3  2549674     0.3     0.4     0.4    0.35\n",
       "4       id79   684320     0.0     0.0     0.0    0.00\n",
       "5       id77   324014     0.5     0.4     0.4    0.40\n",
       "6       id85   298491     1.0     1.0     1.0    1.00\n",
       "7      id117   276159     0.0     0.5     0.0    1.00\n",
       "8       id64   238569     0.4     0.5     0.6    0.10"
      ]
     },
     "execution_count": 121,
     "metadata": {},
     "output_type": "execute_result"
    }
   ],
   "source": [
    "table_mape"
   ]
  },
  {
   "cell_type": "markdown",
   "id": "21bb8fc0",
   "metadata": {},
   "source": [
    "Подведем итоги\n",
    "\n",
    "После проведенного анализа по суммарным итогам всех анализов и, учитывая отклонения, самым сильным является прогноз fcst2. И хотя он имеет самый высокий показатель перепрогнозов, что может приводить к списаниям позиций, но за счет регулярного нахождения на полках основных позиций мы получим более лояльную аудиторию, что положительно сказывается на продажах.\n",
    "\n",
    "Самым большим недостатком всех прогнозов является мусорный прогноз самой продаваемой позиции id79, которая занимает 12,6% от всей суммы продаж. Наилучшим вариантом было бы использование комбинаций прогноза fcst1, который лучше работает с небольшими и средними значениями продаж, не имеет нулевых показателей в прогнозах и имеет низкий показатель перепрогнозов и fcst2, который лучше работает с большими значениями продаж и с бестселлерами и имеет низкий показатель недопрогнозов.\n"
   ]
  },
  {
   "cell_type": "code",
   "execution_count": null,
   "id": "b49b2e94",
   "metadata": {},
   "outputs": [],
   "source": []
  }
 ],
 "metadata": {
  "kernelspec": {
   "display_name": "Python 3 (ipykernel)",
   "language": "python",
   "name": "python3"
  },
  "language_info": {
   "codemirror_mode": {
    "name": "ipython",
    "version": 3
   },
   "file_extension": ".py",
   "mimetype": "text/x-python",
   "name": "python",
   "nbconvert_exporter": "python",
   "pygments_lexer": "ipython3",
   "version": "3.9.7"
  }
 },
 "nbformat": 4,
 "nbformat_minor": 5
}
